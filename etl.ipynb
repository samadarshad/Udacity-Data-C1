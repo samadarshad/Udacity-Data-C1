{
 "cells": [
  {
   "cell_type": "markdown",
   "metadata": {},
   "source": [
    "# ETL Processes\n",
    "Use this notebook to develop the ETL process for each of your tables before completing the `etl.py` file to load the whole datasets."
   ]
  },
  {
   "cell_type": "code",
   "execution_count": 24,
   "metadata": {
    "pycharm": {
     "name": "#%%\n"
    }
   },
   "outputs": [],
   "source": [
    "import os\n",
    "import glob\n",
    "import psycopg2\n",
    "import pandas as pd\n",
    "from sql_queries import *"
   ]
  },
  {
   "cell_type": "code",
   "execution_count": 25,
   "metadata": {
    "pycharm": {
     "name": "#%%\n"
    }
   },
   "outputs": [],
   "source": [
    "conn = psycopg2.connect(\"host=127.0.0.1 dbname=sparkifydb user=student password=student\")\n",
    "conn.set_session(autocommit=True)\n",
    "cur = conn.cursor()"
   ]
  },
  {
   "cell_type": "code",
   "execution_count": 26,
   "metadata": {
    "pycharm": {
     "name": "#%%\n"
    }
   },
   "outputs": [],
   "source": [
    "def get_files(filepath):\n",
    "    all_files = []\n",
    "    for root, dirs, files in os.walk(filepath):\n",
    "        files = glob.glob(os.path.join(root,'*.json'))\n",
    "        for f in files :\n",
    "            all_files.append(os.path.abspath(f))\n",
    "\n",
    "    return all_files"
   ]
  },
  {
   "cell_type": "markdown",
   "metadata": {},
   "source": [
    "# Process `song_data`\n",
    "In this first part, you'll perform ETL on the first dataset, `song_data`, to create the `songs` and `artists` dimensional tables.\n",
    "\n",
    "Let's perform ETL on a single song file and load a single record into each table to start.\n",
    "- Use the `get_files` function provided above to get a list of all song JSON files in `data/song_data`\n",
    "- Select the first song in this list\n",
    "- Read the song file and view the data"
   ]
  },
  {
   "cell_type": "code",
   "execution_count": 27,
   "metadata": {
    "pycharm": {
     "name": "#%%\n"
    }
   },
   "outputs": [],
   "source": [
    "song_files = get_files(\"data/song_data\")"
   ]
  },
  {
   "cell_type": "code",
   "execution_count": 28,
   "metadata": {
    "pycharm": {
     "name": "#%%\n"
    }
   },
   "outputs": [
    {
     "name": "stdout",
     "output_type": "stream",
     "text": [
      "file:///Users/samadarshad/dev/udacity/UdacityDataC1/data/song_data/A/A/A/TRAAAEF128F4273421.json\n"
     ]
    }
   ],
   "source": [
    "filepath = f'file://{song_files[0]}'\n",
    "print(filepath)"
   ]
  },
  {
   "cell_type": "code",
   "execution_count": 29,
   "metadata": {
    "pycharm": {
     "name": "#%%\n"
    }
   },
   "outputs": [
    {
     "data": {
      "text/plain": "   num_songs           artist_id  artist_latitude  artist_longitude  \\\n0          1  AR7G5I41187FB4CE6C              NaN               NaN   \n\n   artist_location artist_name             song_id            title  \\\n0  London, England    Adam Ant  SONHOTT12A8C13493C  Something Girls   \n\n    duration  year  \n0  233.40363  1982  ",
      "text/html": "<div>\n<style scoped>\n    .dataframe tbody tr th:only-of-type {\n        vertical-align: middle;\n    }\n\n    .dataframe tbody tr th {\n        vertical-align: top;\n    }\n\n    .dataframe thead th {\n        text-align: right;\n    }\n</style>\n<table border=\"1\" class=\"dataframe\">\n  <thead>\n    <tr style=\"text-align: right;\">\n      <th></th>\n      <th>num_songs</th>\n      <th>artist_id</th>\n      <th>artist_latitude</th>\n      <th>artist_longitude</th>\n      <th>artist_location</th>\n      <th>artist_name</th>\n      <th>song_id</th>\n      <th>title</th>\n      <th>duration</th>\n      <th>year</th>\n    </tr>\n  </thead>\n  <tbody>\n    <tr>\n      <th>0</th>\n      <td>1</td>\n      <td>AR7G5I41187FB4CE6C</td>\n      <td>NaN</td>\n      <td>NaN</td>\n      <td>London, England</td>\n      <td>Adam Ant</td>\n      <td>SONHOTT12A8C13493C</td>\n      <td>Something Girls</td>\n      <td>233.40363</td>\n      <td>1982</td>\n    </tr>\n  </tbody>\n</table>\n</div>"
     },
     "execution_count": 29,
     "metadata": {},
     "output_type": "execute_result"
    }
   ],
   "source": [
    "df = pd.read_json(filepath, lines=True)\n",
    "df.head(100)"
   ]
  },
  {
   "cell_type": "markdown",
   "metadata": {},
   "source": [
    "## #1: `songs` Table\n",
    "#### Extract Data for Songs Table\n",
    "- Select columns for song ID, title, artist ID, year, and duration\n",
    "- Use `df.values` to select just the values from the dataframe\n",
    "- Index to select the first (only) record in the dataframe\n",
    "- Convert the array to a list and set it to `song_data`"
   ]
  },
  {
   "cell_type": "code",
   "execution_count": 30,
   "metadata": {
    "pycharm": {
     "name": "#%%\n"
    }
   },
   "outputs": [
    {
     "name": "stdout",
     "output_type": "stream",
     "text": [
      "              song_id\n",
      "0  SONHOTT12A8C13493C\n"
     ]
    },
    {
     "data": {
      "text/plain": "['SONHOTT12A8C13493C',\n 'Something Girls',\n 'AR7G5I41187FB4CE6C',\n 1982,\n 233.40363]"
     },
     "execution_count": 30,
     "metadata": {},
     "output_type": "execute_result"
    }
   ],
   "source": [
    "print(df[[\"song_id\"]])\n",
    "f = df.iloc[0]\n",
    "song_data = [f.song_id, f.title, f.artist_id, int(f.year), f.duration]\n",
    "song_data\n",
    "\n"
   ]
  },
  {
   "cell_type": "markdown",
   "metadata": {},
   "source": [
    "Run `test.ipynb` to see if you've successfully added a record to this table."
   ]
  },
  {
   "cell_type": "markdown",
   "metadata": {},
   "source": [
    "## #2: `artists` Table\n",
    "#### Extract Data for Artists Table\n",
    "- Select columns for artist ID, name, location, latitude, and longitude\n",
    "- Use `df.values` to select just the values from the dataframe\n",
    "- Index to select the first (only) record in the dataframe\n",
    "- Convert the array to a list and set it to `artist_data`"
   ]
  },
  {
   "cell_type": "code",
   "execution_count": 31,
   "metadata": {
    "pycharm": {
     "name": "#%%\n"
    }
   },
   "outputs": [
    {
     "data": {
      "text/plain": "['AR7G5I41187FB4CE6C', 'Adam Ant', 'London, England', nan, nan]"
     },
     "execution_count": 31,
     "metadata": {},
     "output_type": "execute_result"
    }
   ],
   "source": [
    "artist_data = [f.artist_id, f.artist_name, f.artist_location, f.artist_latitude, f.artist_longitude]\n",
    "artist_data"
   ]
  },
  {
   "cell_type": "markdown",
   "metadata": {},
   "source": [
    "#### Insert Record into Artist Table\n",
    "Implement the `artist_table_insert` query in `sql_queries.py` and run the cell below to insert a record for this song's artist into the `artists` table. Remember to run `create_tables.py` before running the cell below to ensure you've created/resetted the `artists` table in the sparkify database."
   ]
  },
  {
   "cell_type": "code",
   "execution_count": 32,
   "metadata": {
    "pycharm": {
     "name": "#%%\n"
    }
   },
   "outputs": [],
   "source": [
    "cur.execute(artist_table_insert, artist_data)\n",
    "conn.commit()\n"
   ]
  },
  {
   "cell_type": "markdown",
   "metadata": {},
   "source": [
    "#### Insert Record into Song Table\n",
    "Implement the `song_table_insert` query in `sql_queries.py` and run the cell below to insert a record for this song into the `songs` table. Remember to run `create_tables.py` before running the cell below to ensure you've created/resetted the `songs` table in the sparkify database."
   ]
  },
  {
   "cell_type": "code",
   "execution_count": 33,
   "metadata": {
    "pycharm": {
     "name": "#%%\n"
    }
   },
   "outputs": [],
   "source": [
    "cur.execute(song_table_insert, song_data)\n",
    "conn.commit()"
   ]
  },
  {
   "cell_type": "markdown",
   "metadata": {},
   "source": [
    "Run `test.ipynb` to see if you've successfully added a record to this table."
   ]
  },
  {
   "cell_type": "markdown",
   "metadata": {},
   "source": [
    "# Process `log_data`\n",
    "In this part, you'll perform ETL on the second dataset, `log_data`, to create the `time` and `users` dimensional tables, as well as the `songplays` fact table.\n",
    "\n",
    "Let's perform ETL on a single log file and load a single record into each table.\n",
    "- Use the `get_files` function provided above to get a list of all log JSON files in `data/log_data`\n",
    "- Select the first log file in this list\n",
    "- Read the log file and view the data"
   ]
  },
  {
   "cell_type": "code",
   "execution_count": 34,
   "metadata": {
    "pycharm": {
     "name": "#%%\n"
    }
   },
   "outputs": [],
   "source": [
    "log_files = get_files('data/log_data')"
   ]
  },
  {
   "cell_type": "code",
   "execution_count": 35,
   "metadata": {
    "pycharm": {
     "name": "#%%\n"
    }
   },
   "outputs": [
    {
     "data": {
      "text/plain": "'file:///Users/samadarshad/dev/udacity/UdacityDataC1/data/log_data/2018/11/2018-11-11-events.json'"
     },
     "execution_count": 35,
     "metadata": {},
     "output_type": "execute_result"
    }
   ],
   "source": [
    "filepath = f'file://{log_files[0]}'\n",
    "filepath"
   ]
  },
  {
   "cell_type": "code",
   "execution_count": 36,
   "metadata": {
    "pycharm": {
     "name": "#%%\n"
    }
   },
   "outputs": [
    {
     "data": {
      "text/plain": "                      artist       auth firstName gender  itemInSession  \\\n0                   Frumpies  Logged In  Anabelle      F              0   \n1  Kenny G with Peabo Bryson  Logged In  Anabelle      F              1   \n2                Biffy Clyro  Logged In  Anabelle      F              2   \n3                       None  Logged In      Lily      F              0   \n4                        HIM  Logged In      Lily      F              1   \n\n  lastName     length level                                     location  \\\n0  Simpson  134.47791  free  Philadelphia-Camden-Wilmington, PA-NJ-DE-MD   \n1  Simpson  264.75057  free  Philadelphia-Camden-Wilmington, PA-NJ-DE-MD   \n2  Simpson  189.83138  free  Philadelphia-Camden-Wilmington, PA-NJ-DE-MD   \n3    Burns        NaN  free        New York-Newark-Jersey City, NY-NJ-PA   \n4    Burns  212.06159  free        New York-Newark-Jersey City, NY-NJ-PA   \n\n  method      page  registration  sessionId                            song  \\\n0    PUT  NextSong  1.541044e+12        455                      Fuck Kitty   \n1    PUT  NextSong  1.541044e+12        455  By The Time This Night Is Over   \n2    PUT  NextSong  1.541044e+12        455                     God & Satan   \n3    GET      Home  1.540621e+12        456                            None   \n4    PUT  NextSong  1.540621e+12        456                       Beautiful   \n\n   status             ts                                          userAgent  \\\n0     200  1541903636796  \"Mozilla/5.0 (Macintosh; Intel Mac OS X 10_9_4...   \n1     200  1541903770796  \"Mozilla/5.0 (Macintosh; Intel Mac OS X 10_9_4...   \n2     200  1541904034796  \"Mozilla/5.0 (Macintosh; Intel Mac OS X 10_9_4...   \n3     200  1541910841796  \"Mozilla/5.0 (Windows NT 6.1; WOW64) AppleWebK...   \n4     200  1541910973796  \"Mozilla/5.0 (Windows NT 6.1; WOW64) AppleWebK...   \n\n  userId  \n0     69  \n1     69  \n2     69  \n3     32  \n4     32  ",
      "text/html": "<div>\n<style scoped>\n    .dataframe tbody tr th:only-of-type {\n        vertical-align: middle;\n    }\n\n    .dataframe tbody tr th {\n        vertical-align: top;\n    }\n\n    .dataframe thead th {\n        text-align: right;\n    }\n</style>\n<table border=\"1\" class=\"dataframe\">\n  <thead>\n    <tr style=\"text-align: right;\">\n      <th></th>\n      <th>artist</th>\n      <th>auth</th>\n      <th>firstName</th>\n      <th>gender</th>\n      <th>itemInSession</th>\n      <th>lastName</th>\n      <th>length</th>\n      <th>level</th>\n      <th>location</th>\n      <th>method</th>\n      <th>page</th>\n      <th>registration</th>\n      <th>sessionId</th>\n      <th>song</th>\n      <th>status</th>\n      <th>ts</th>\n      <th>userAgent</th>\n      <th>userId</th>\n    </tr>\n  </thead>\n  <tbody>\n    <tr>\n      <th>0</th>\n      <td>Frumpies</td>\n      <td>Logged In</td>\n      <td>Anabelle</td>\n      <td>F</td>\n      <td>0</td>\n      <td>Simpson</td>\n      <td>134.47791</td>\n      <td>free</td>\n      <td>Philadelphia-Camden-Wilmington, PA-NJ-DE-MD</td>\n      <td>PUT</td>\n      <td>NextSong</td>\n      <td>1.541044e+12</td>\n      <td>455</td>\n      <td>Fuck Kitty</td>\n      <td>200</td>\n      <td>1541903636796</td>\n      <td>\"Mozilla/5.0 (Macintosh; Intel Mac OS X 10_9_4...</td>\n      <td>69</td>\n    </tr>\n    <tr>\n      <th>1</th>\n      <td>Kenny G with Peabo Bryson</td>\n      <td>Logged In</td>\n      <td>Anabelle</td>\n      <td>F</td>\n      <td>1</td>\n      <td>Simpson</td>\n      <td>264.75057</td>\n      <td>free</td>\n      <td>Philadelphia-Camden-Wilmington, PA-NJ-DE-MD</td>\n      <td>PUT</td>\n      <td>NextSong</td>\n      <td>1.541044e+12</td>\n      <td>455</td>\n      <td>By The Time This Night Is Over</td>\n      <td>200</td>\n      <td>1541903770796</td>\n      <td>\"Mozilla/5.0 (Macintosh; Intel Mac OS X 10_9_4...</td>\n      <td>69</td>\n    </tr>\n    <tr>\n      <th>2</th>\n      <td>Biffy Clyro</td>\n      <td>Logged In</td>\n      <td>Anabelle</td>\n      <td>F</td>\n      <td>2</td>\n      <td>Simpson</td>\n      <td>189.83138</td>\n      <td>free</td>\n      <td>Philadelphia-Camden-Wilmington, PA-NJ-DE-MD</td>\n      <td>PUT</td>\n      <td>NextSong</td>\n      <td>1.541044e+12</td>\n      <td>455</td>\n      <td>God &amp; Satan</td>\n      <td>200</td>\n      <td>1541904034796</td>\n      <td>\"Mozilla/5.0 (Macintosh; Intel Mac OS X 10_9_4...</td>\n      <td>69</td>\n    </tr>\n    <tr>\n      <th>3</th>\n      <td>None</td>\n      <td>Logged In</td>\n      <td>Lily</td>\n      <td>F</td>\n      <td>0</td>\n      <td>Burns</td>\n      <td>NaN</td>\n      <td>free</td>\n      <td>New York-Newark-Jersey City, NY-NJ-PA</td>\n      <td>GET</td>\n      <td>Home</td>\n      <td>1.540621e+12</td>\n      <td>456</td>\n      <td>None</td>\n      <td>200</td>\n      <td>1541910841796</td>\n      <td>\"Mozilla/5.0 (Windows NT 6.1; WOW64) AppleWebK...</td>\n      <td>32</td>\n    </tr>\n    <tr>\n      <th>4</th>\n      <td>HIM</td>\n      <td>Logged In</td>\n      <td>Lily</td>\n      <td>F</td>\n      <td>1</td>\n      <td>Burns</td>\n      <td>212.06159</td>\n      <td>free</td>\n      <td>New York-Newark-Jersey City, NY-NJ-PA</td>\n      <td>PUT</td>\n      <td>NextSong</td>\n      <td>1.540621e+12</td>\n      <td>456</td>\n      <td>Beautiful</td>\n      <td>200</td>\n      <td>1541910973796</td>\n      <td>\"Mozilla/5.0 (Windows NT 6.1; WOW64) AppleWebK...</td>\n      <td>32</td>\n    </tr>\n  </tbody>\n</table>\n</div>"
     },
     "execution_count": 36,
     "metadata": {},
     "output_type": "execute_result"
    }
   ],
   "source": [
    "df = pd.read_json(filepath, lines=True)\n",
    "df.head()"
   ]
  },
  {
   "cell_type": "markdown",
   "metadata": {},
   "source": [
    "## #3: `time` Table\n",
    "#### Extract Data for Time Table\n",
    "- Filter records by `NextSong` action\n",
    "- Convert the `ts` timestamp column to datetime\n",
    "  - Hint: the current timestamp is in milliseconds\n",
    "- Extract the timestamp, hour, day, week of year, month, year, and weekday from the `ts` column and set `time_data` to a list containing these values in order\n",
    "  - Hint: use pandas' [`dt` attribute](https://pandas.pydata.org/pandas-docs/stable/reference/api/pandas.Series.dt.html) to access easily datetimelike properties.\n",
    "- Specify labels for these columns and set to `column_labels`\n",
    "- Create a dataframe, `time_df,` containing the time data for this file by combining `column_labels` and `time_data` into a dictionary and converting this into a dataframe"
   ]
  },
  {
   "cell_type": "code",
   "execution_count": 37,
   "metadata": {
    "pycharm": {
     "name": "#%%\n"
    }
   },
   "outputs": [
    {
     "data": {
      "text/plain": "                      artist       auth firstName gender  itemInSession  \\\n0                   Frumpies  Logged In  Anabelle      F              0   \n1  Kenny G with Peabo Bryson  Logged In  Anabelle      F              1   \n2                Biffy Clyro  Logged In  Anabelle      F              2   \n4                        HIM  Logged In      Lily      F              1   \n5                     Matmos  Logged In    Joseph      M              0   \n\n    lastName      length level                                     location  \\\n0    Simpson   134.47791  free  Philadelphia-Camden-Wilmington, PA-NJ-DE-MD   \n1    Simpson   264.75057  free  Philadelphia-Camden-Wilmington, PA-NJ-DE-MD   \n2    Simpson   189.83138  free  Philadelphia-Camden-Wilmington, PA-NJ-DE-MD   \n4      Burns   212.06159  free        New York-Newark-Jersey City, NY-NJ-PA   \n5  Gutierrez  1449.11628  free                                 Columbia, SC   \n\n  method      page  registration  sessionId                            song  \\\n0    PUT  NextSong  1.541044e+12        455                      Fuck Kitty   \n1    PUT  NextSong  1.541044e+12        455  By The Time This Night Is Over   \n2    PUT  NextSong  1.541044e+12        455                     God & Satan   \n4    PUT  NextSong  1.540621e+12        456                       Beautiful   \n5    PUT  NextSong  1.540809e+12        284                 Supreme Balloon   \n\n   status             ts                                          userAgent  \\\n0     200  1541903636796  \"Mozilla/5.0 (Macintosh; Intel Mac OS X 10_9_4...   \n1     200  1541903770796  \"Mozilla/5.0 (Macintosh; Intel Mac OS X 10_9_4...   \n2     200  1541904034796  \"Mozilla/5.0 (Macintosh; Intel Mac OS X 10_9_4...   \n4     200  1541910973796  \"Mozilla/5.0 (Windows NT 6.1; WOW64) AppleWebK...   \n5     200  1541911006796  \"Mozilla/5.0 (Macintosh; Intel Mac OS X 10_9_3...   \n\n  userId  \n0     69  \n1     69  \n2     69  \n4     32  \n5     75  ",
      "text/html": "<div>\n<style scoped>\n    .dataframe tbody tr th:only-of-type {\n        vertical-align: middle;\n    }\n\n    .dataframe tbody tr th {\n        vertical-align: top;\n    }\n\n    .dataframe thead th {\n        text-align: right;\n    }\n</style>\n<table border=\"1\" class=\"dataframe\">\n  <thead>\n    <tr style=\"text-align: right;\">\n      <th></th>\n      <th>artist</th>\n      <th>auth</th>\n      <th>firstName</th>\n      <th>gender</th>\n      <th>itemInSession</th>\n      <th>lastName</th>\n      <th>length</th>\n      <th>level</th>\n      <th>location</th>\n      <th>method</th>\n      <th>page</th>\n      <th>registration</th>\n      <th>sessionId</th>\n      <th>song</th>\n      <th>status</th>\n      <th>ts</th>\n      <th>userAgent</th>\n      <th>userId</th>\n    </tr>\n  </thead>\n  <tbody>\n    <tr>\n      <th>0</th>\n      <td>Frumpies</td>\n      <td>Logged In</td>\n      <td>Anabelle</td>\n      <td>F</td>\n      <td>0</td>\n      <td>Simpson</td>\n      <td>134.47791</td>\n      <td>free</td>\n      <td>Philadelphia-Camden-Wilmington, PA-NJ-DE-MD</td>\n      <td>PUT</td>\n      <td>NextSong</td>\n      <td>1.541044e+12</td>\n      <td>455</td>\n      <td>Fuck Kitty</td>\n      <td>200</td>\n      <td>1541903636796</td>\n      <td>\"Mozilla/5.0 (Macintosh; Intel Mac OS X 10_9_4...</td>\n      <td>69</td>\n    </tr>\n    <tr>\n      <th>1</th>\n      <td>Kenny G with Peabo Bryson</td>\n      <td>Logged In</td>\n      <td>Anabelle</td>\n      <td>F</td>\n      <td>1</td>\n      <td>Simpson</td>\n      <td>264.75057</td>\n      <td>free</td>\n      <td>Philadelphia-Camden-Wilmington, PA-NJ-DE-MD</td>\n      <td>PUT</td>\n      <td>NextSong</td>\n      <td>1.541044e+12</td>\n      <td>455</td>\n      <td>By The Time This Night Is Over</td>\n      <td>200</td>\n      <td>1541903770796</td>\n      <td>\"Mozilla/5.0 (Macintosh; Intel Mac OS X 10_9_4...</td>\n      <td>69</td>\n    </tr>\n    <tr>\n      <th>2</th>\n      <td>Biffy Clyro</td>\n      <td>Logged In</td>\n      <td>Anabelle</td>\n      <td>F</td>\n      <td>2</td>\n      <td>Simpson</td>\n      <td>189.83138</td>\n      <td>free</td>\n      <td>Philadelphia-Camden-Wilmington, PA-NJ-DE-MD</td>\n      <td>PUT</td>\n      <td>NextSong</td>\n      <td>1.541044e+12</td>\n      <td>455</td>\n      <td>God &amp; Satan</td>\n      <td>200</td>\n      <td>1541904034796</td>\n      <td>\"Mozilla/5.0 (Macintosh; Intel Mac OS X 10_9_4...</td>\n      <td>69</td>\n    </tr>\n    <tr>\n      <th>4</th>\n      <td>HIM</td>\n      <td>Logged In</td>\n      <td>Lily</td>\n      <td>F</td>\n      <td>1</td>\n      <td>Burns</td>\n      <td>212.06159</td>\n      <td>free</td>\n      <td>New York-Newark-Jersey City, NY-NJ-PA</td>\n      <td>PUT</td>\n      <td>NextSong</td>\n      <td>1.540621e+12</td>\n      <td>456</td>\n      <td>Beautiful</td>\n      <td>200</td>\n      <td>1541910973796</td>\n      <td>\"Mozilla/5.0 (Windows NT 6.1; WOW64) AppleWebK...</td>\n      <td>32</td>\n    </tr>\n    <tr>\n      <th>5</th>\n      <td>Matmos</td>\n      <td>Logged In</td>\n      <td>Joseph</td>\n      <td>M</td>\n      <td>0</td>\n      <td>Gutierrez</td>\n      <td>1449.11628</td>\n      <td>free</td>\n      <td>Columbia, SC</td>\n      <td>PUT</td>\n      <td>NextSong</td>\n      <td>1.540809e+12</td>\n      <td>284</td>\n      <td>Supreme Balloon</td>\n      <td>200</td>\n      <td>1541911006796</td>\n      <td>\"Mozilla/5.0 (Macintosh; Intel Mac OS X 10_9_3...</td>\n      <td>75</td>\n    </tr>\n  </tbody>\n</table>\n</div>"
     },
     "execution_count": 37,
     "metadata": {},
     "output_type": "execute_result"
    }
   ],
   "source": [
    "df = df[df.page == \"NextSong\"]\n",
    "df.head()"
   ]
  },
  {
   "cell_type": "code",
   "execution_count": 38,
   "metadata": {
    "pycharm": {
     "name": "#%%\n"
    }
   },
   "outputs": [
    {
     "data": {
      "text/plain": "0   2018-11-11 02:33:56.796\n1   2018-11-11 02:36:10.796\n2   2018-11-11 02:40:34.796\n4   2018-11-11 04:36:13.796\n5   2018-11-11 04:36:46.796\nName: ts, dtype: datetime64[ns]"
     },
     "execution_count": 38,
     "metadata": {},
     "output_type": "execute_result"
    }
   ],
   "source": [
    "t = pd.to_datetime(df.ts, unit='ms')\n",
    "t.head()"
   ]
  },
  {
   "cell_type": "code",
   "execution_count": 39,
   "metadata": {
    "pycharm": {
     "name": "#%%\n"
    }
   },
   "outputs": [
    {
     "name": "stderr",
     "output_type": "stream",
     "text": [
      "/var/folders/t7/07tj8h915vl39bnb976386fw0000gn/T/ipykernel_2733/4123741563.py:1: FutureWarning: Series.dt.weekofyear and Series.dt.week have been deprecated. Please use Series.dt.isocalendar().week instead.\n",
      "  time_data = (t, t.dt.hour, t.dt.day, t.dt.weekofyear, t.dt.month, t.dt.year, t.dt.weekday)\n"
     ]
    }
   ],
   "source": [
    "time_data = (t, t.dt.hour, t.dt.day, t.dt.weekofyear, t.dt.month, t.dt.year, t.dt.weekday)\n",
    "column_labels = ('timestamp', 'hour', 'day', 'week', 'month', 'year', 'weekday')"
   ]
  },
  {
   "cell_type": "code",
   "execution_count": 40,
   "metadata": {
    "pycharm": {
     "name": "#%%\n"
    }
   },
   "outputs": [
    {
     "data": {
      "text/plain": "                timestamp  hour  day  week  month  year  weekday\n0 2018-11-11 02:33:56.796     2   11    45     11  2018        6\n1 2018-11-11 02:36:10.796     2   11    45     11  2018        6\n2 2018-11-11 02:40:34.796     2   11    45     11  2018        6\n4 2018-11-11 04:36:13.796     4   11    45     11  2018        6\n5 2018-11-11 04:36:46.796     4   11    45     11  2018        6",
      "text/html": "<div>\n<style scoped>\n    .dataframe tbody tr th:only-of-type {\n        vertical-align: middle;\n    }\n\n    .dataframe tbody tr th {\n        vertical-align: top;\n    }\n\n    .dataframe thead th {\n        text-align: right;\n    }\n</style>\n<table border=\"1\" class=\"dataframe\">\n  <thead>\n    <tr style=\"text-align: right;\">\n      <th></th>\n      <th>timestamp</th>\n      <th>hour</th>\n      <th>day</th>\n      <th>week</th>\n      <th>month</th>\n      <th>year</th>\n      <th>weekday</th>\n    </tr>\n  </thead>\n  <tbody>\n    <tr>\n      <th>0</th>\n      <td>2018-11-11 02:33:56.796</td>\n      <td>2</td>\n      <td>11</td>\n      <td>45</td>\n      <td>11</td>\n      <td>2018</td>\n      <td>6</td>\n    </tr>\n    <tr>\n      <th>1</th>\n      <td>2018-11-11 02:36:10.796</td>\n      <td>2</td>\n      <td>11</td>\n      <td>45</td>\n      <td>11</td>\n      <td>2018</td>\n      <td>6</td>\n    </tr>\n    <tr>\n      <th>2</th>\n      <td>2018-11-11 02:40:34.796</td>\n      <td>2</td>\n      <td>11</td>\n      <td>45</td>\n      <td>11</td>\n      <td>2018</td>\n      <td>6</td>\n    </tr>\n    <tr>\n      <th>4</th>\n      <td>2018-11-11 04:36:13.796</td>\n      <td>4</td>\n      <td>11</td>\n      <td>45</td>\n      <td>11</td>\n      <td>2018</td>\n      <td>6</td>\n    </tr>\n    <tr>\n      <th>5</th>\n      <td>2018-11-11 04:36:46.796</td>\n      <td>4</td>\n      <td>11</td>\n      <td>45</td>\n      <td>11</td>\n      <td>2018</td>\n      <td>6</td>\n    </tr>\n  </tbody>\n</table>\n</div>"
     },
     "execution_count": 40,
     "metadata": {},
     "output_type": "execute_result"
    }
   ],
   "source": [
    "time_df = pd.DataFrame(dict(zip(column_labels, time_data)))\n",
    "time_df.head()"
   ]
  },
  {
   "cell_type": "markdown",
   "metadata": {},
   "source": [
    "#### Insert Records into Time Table\n",
    "Implement the `time_table_insert` query in `sql_queries.py` and run the cell below to insert records for the timestamps in this log file into the `time` table. Remember to run `create_tables.py` before running the cell below to ensure you've created/resetted the `time` table in the sparkify database."
   ]
  },
  {
   "cell_type": "code",
   "execution_count": 41,
   "metadata": {
    "pycharm": {
     "name": "#%%\n"
    }
   },
   "outputs": [
    {
     "name": "stdout",
     "output_type": "stream",
     "text": [
      "0\n",
      "timestamp    2018-11-11 02:33:56.796000\n",
      "hour                                  2\n",
      "day                                  11\n",
      "week                                 45\n",
      "month                                11\n",
      "year                               2018\n",
      "weekday                               6\n",
      "Name: 0, dtype: object\n",
      "1\n",
      "timestamp    2018-11-11 02:36:10.796000\n",
      "hour                                  2\n",
      "day                                  11\n",
      "week                                 45\n",
      "month                                11\n",
      "year                               2018\n",
      "weekday                               6\n",
      "Name: 1, dtype: object\n",
      "2\n",
      "timestamp    2018-11-11 02:40:34.796000\n",
      "hour                                  2\n",
      "day                                  11\n",
      "week                                 45\n",
      "month                                11\n",
      "year                               2018\n",
      "weekday                               6\n",
      "Name: 2, dtype: object\n",
      "4\n",
      "timestamp    2018-11-11 04:36:13.796000\n",
      "hour                                  4\n",
      "day                                  11\n",
      "week                                 45\n",
      "month                                11\n",
      "year                               2018\n",
      "weekday                               6\n",
      "Name: 4, dtype: object\n",
      "5\n",
      "timestamp    2018-11-11 04:36:46.796000\n",
      "hour                                  4\n",
      "day                                  11\n",
      "week                                 45\n",
      "month                                11\n",
      "year                               2018\n",
      "weekday                               6\n",
      "Name: 5, dtype: object\n",
      "6\n",
      "timestamp    2018-11-11 09:56:28.796000\n",
      "hour                                  9\n",
      "day                                  11\n",
      "week                                 45\n",
      "month                                11\n",
      "year                               2018\n",
      "weekday                               6\n",
      "Name: 6, dtype: object\n",
      "7\n",
      "timestamp    2018-11-11 10:00:47.796000\n",
      "hour                                 10\n",
      "day                                  11\n",
      "week                                 45\n",
      "month                                11\n",
      "year                               2018\n",
      "weekday                               6\n",
      "Name: 7, dtype: object\n",
      "8\n",
      "timestamp    2018-11-11 10:04:07.796000\n",
      "hour                                 10\n",
      "day                                  11\n",
      "week                                 45\n",
      "month                                11\n",
      "year                               2018\n",
      "weekday                               6\n",
      "Name: 8, dtype: object\n",
      "9\n",
      "timestamp    2018-11-11 10:08:28.796000\n",
      "hour                                 10\n",
      "day                                  11\n",
      "week                                 45\n",
      "month                                11\n",
      "year                               2018\n",
      "weekday                               6\n",
      "Name: 9, dtype: object\n",
      "10\n",
      "timestamp    2018-11-11 10:12:00.796000\n",
      "hour                                 10\n",
      "day                                  11\n",
      "week                                 45\n",
      "month                                11\n",
      "year                               2018\n",
      "weekday                               6\n",
      "Name: 10, dtype: object\n",
      "12\n",
      "timestamp    2018-11-11 10:27:43.796000\n",
      "hour                                 10\n",
      "day                                  11\n",
      "week                                 45\n",
      "month                                11\n",
      "year                               2018\n",
      "weekday                               6\n",
      "Name: 12, dtype: object\n",
      "13\n",
      "timestamp    2018-11-11 10:33:44.796000\n",
      "hour                                 10\n",
      "day                                  11\n",
      "week                                 45\n",
      "month                                11\n",
      "year                               2018\n",
      "weekday                               6\n",
      "Name: 13, dtype: object\n",
      "14\n",
      "timestamp    2018-11-11 10:36:22.796000\n",
      "hour                                 10\n",
      "day                                  11\n",
      "week                                 45\n",
      "month                                11\n",
      "year                               2018\n",
      "weekday                               6\n",
      "Name: 14, dtype: object\n",
      "15\n",
      "timestamp    2018-11-11 10:40:14.796000\n",
      "hour                                 10\n",
      "day                                  11\n",
      "week                                 45\n",
      "month                                11\n",
      "year                               2018\n",
      "weekday                               6\n",
      "Name: 15, dtype: object\n",
      "16\n",
      "timestamp    2018-11-11 10:43:23.796000\n",
      "hour                                 10\n",
      "day                                  11\n",
      "week                                 45\n",
      "month                                11\n",
      "year                               2018\n",
      "weekday                               6\n",
      "Name: 16, dtype: object\n",
      "17\n",
      "timestamp    2018-11-11 10:46:18.796000\n",
      "hour                                 10\n",
      "day                                  11\n",
      "week                                 45\n",
      "month                                11\n",
      "year                               2018\n",
      "weekday                               6\n",
      "Name: 17, dtype: object\n",
      "23\n",
      "timestamp    2018-11-11 11:14:51.796000\n",
      "hour                                 11\n",
      "day                                  11\n",
      "week                                 45\n",
      "month                                11\n",
      "year                               2018\n",
      "weekday                               6\n",
      "Name: 23, dtype: object\n",
      "25\n",
      "timestamp    2018-11-11 13:41:22.796000\n",
      "hour                                 13\n",
      "day                                  11\n",
      "week                                 45\n",
      "month                                11\n",
      "year                               2018\n",
      "weekday                               6\n",
      "Name: 25, dtype: object\n",
      "27\n",
      "timestamp    2018-11-11 13:52:23.796000\n",
      "hour                                 13\n",
      "day                                  11\n",
      "week                                 45\n",
      "month                                11\n",
      "year                               2018\n",
      "weekday                               6\n",
      "Name: 27, dtype: object\n",
      "28\n",
      "timestamp    2018-11-11 13:58:22.796000\n",
      "hour                                 13\n",
      "day                                  11\n",
      "week                                 45\n",
      "month                                11\n",
      "year                               2018\n",
      "weekday                               6\n",
      "Name: 28, dtype: object\n",
      "30\n",
      "timestamp    2018-11-11 14:05:43.796000\n",
      "hour                                 14\n",
      "day                                  11\n",
      "week                                 45\n",
      "month                                11\n",
      "year                               2018\n",
      "weekday                               6\n",
      "Name: 30, dtype: object\n",
      "31\n",
      "timestamp    2018-11-11 14:07:54.796000\n",
      "hour                                 14\n",
      "day                                  11\n",
      "week                                 45\n",
      "month                                11\n",
      "year                               2018\n",
      "weekday                               6\n",
      "Name: 31, dtype: object\n",
      "32\n",
      "timestamp    2018-11-11 14:09:36.796000\n",
      "hour                                 14\n",
      "day                                  11\n",
      "week                                 45\n",
      "month                                11\n",
      "year                               2018\n",
      "weekday                               6\n",
      "Name: 32, dtype: object\n",
      "33\n",
      "timestamp    2018-11-11 14:14:29.796000\n",
      "hour                                 14\n",
      "day                                  11\n",
      "week                                 45\n",
      "month                                11\n",
      "year                               2018\n",
      "weekday                               6\n",
      "Name: 33, dtype: object\n",
      "35\n",
      "timestamp    2018-11-11 14:15:06.796000\n",
      "hour                                 14\n",
      "day                                  11\n",
      "week                                 45\n",
      "month                                11\n",
      "year                               2018\n",
      "weekday                               6\n",
      "Name: 35, dtype: object\n",
      "36\n",
      "timestamp    2018-11-11 14:17:52.796000\n",
      "hour                                 14\n",
      "day                                  11\n",
      "week                                 45\n",
      "month                                11\n",
      "year                               2018\n",
      "weekday                               6\n",
      "Name: 36, dtype: object\n",
      "37\n",
      "timestamp    2018-11-11 14:19:37.796000\n",
      "hour                                 14\n",
      "day                                  11\n",
      "week                                 45\n",
      "month                                11\n",
      "year                               2018\n",
      "weekday                               6\n",
      "Name: 37, dtype: object\n",
      "38\n",
      "timestamp    2018-11-11 14:24:58.796000\n",
      "hour                                 14\n",
      "day                                  11\n",
      "week                                 45\n",
      "month                                11\n",
      "year                               2018\n",
      "weekday                               6\n",
      "Name: 38, dtype: object\n",
      "39\n",
      "timestamp    2018-11-11 14:30:05.796000\n",
      "hour                                 14\n",
      "day                                  11\n",
      "week                                 45\n",
      "month                                11\n",
      "year                               2018\n",
      "weekday                               6\n",
      "Name: 39, dtype: object\n",
      "40\n",
      "timestamp    2018-11-11 14:33:53.796000\n",
      "hour                                 14\n",
      "day                                  11\n",
      "week                                 45\n",
      "month                                11\n",
      "year                               2018\n",
      "weekday                               6\n",
      "Name: 40, dtype: object\n",
      "41\n",
      "timestamp    2018-11-11 14:37:16.796000\n",
      "hour                                 14\n",
      "day                                  11\n",
      "week                                 45\n",
      "month                                11\n",
      "year                               2018\n",
      "weekday                               6\n",
      "Name: 41, dtype: object\n",
      "42\n",
      "timestamp    2018-11-11 14:40:58.796000\n",
      "hour                                 14\n",
      "day                                  11\n",
      "week                                 45\n",
      "month                                11\n",
      "year                               2018\n",
      "weekday                               6\n",
      "Name: 42, dtype: object\n",
      "43\n",
      "timestamp    2018-11-11 14:44:29.796000\n",
      "hour                                 14\n",
      "day                                  11\n",
      "week                                 45\n",
      "month                                11\n",
      "year                               2018\n",
      "weekday                               6\n",
      "Name: 43, dtype: object\n",
      "44\n",
      "timestamp    2018-11-11 14:47:24.796000\n",
      "hour                                 14\n",
      "day                                  11\n",
      "week                                 45\n",
      "month                                11\n",
      "year                               2018\n",
      "weekday                               6\n",
      "Name: 44, dtype: object\n",
      "45\n",
      "timestamp    2018-11-11 14:47:42.796000\n",
      "hour                                 14\n",
      "day                                  11\n",
      "week                                 45\n",
      "month                                11\n",
      "year                               2018\n",
      "weekday                               6\n",
      "Name: 45, dtype: object\n",
      "46\n",
      "timestamp    2018-11-11 14:51:55.796000\n",
      "hour                                 14\n",
      "day                                  11\n",
      "week                                 45\n",
      "month                                11\n",
      "year                               2018\n",
      "weekday                               6\n",
      "Name: 46, dtype: object\n",
      "48\n",
      "timestamp    2018-11-11 14:54:07.796000\n",
      "hour                                 14\n",
      "day                                  11\n",
      "week                                 45\n",
      "month                                11\n",
      "year                               2018\n",
      "weekday                               6\n",
      "Name: 48, dtype: object\n",
      "49\n",
      "timestamp    2018-11-11 14:56:21.796000\n",
      "hour                                 14\n",
      "day                                  11\n",
      "week                                 45\n",
      "month                                11\n",
      "year                               2018\n",
      "weekday                               6\n",
      "Name: 49, dtype: object\n",
      "50\n",
      "timestamp    2018-11-11 14:57:24.796000\n",
      "hour                                 14\n",
      "day                                  11\n",
      "week                                 45\n",
      "month                                11\n",
      "year                               2018\n",
      "weekday                               6\n",
      "Name: 50, dtype: object\n",
      "52\n",
      "timestamp    2018-11-11 15:00:12.796000\n",
      "hour                                 15\n",
      "day                                  11\n",
      "week                                 45\n",
      "month                                11\n",
      "year                               2018\n",
      "weekday                               6\n",
      "Name: 52, dtype: object\n",
      "54\n",
      "timestamp    2018-11-11 15:00:37.796000\n",
      "hour                                 15\n",
      "day                                  11\n",
      "week                                 45\n",
      "month                                11\n",
      "year                               2018\n",
      "weekday                               6\n",
      "Name: 54, dtype: object\n",
      "55\n",
      "timestamp    2018-11-11 15:04:26.796000\n",
      "hour                                 15\n",
      "day                                  11\n",
      "week                                 45\n",
      "month                                11\n",
      "year                               2018\n",
      "weekday                               6\n",
      "Name: 55, dtype: object\n",
      "56\n",
      "timestamp    2018-11-11 15:07:26.796000\n",
      "hour                                 15\n",
      "day                                  11\n",
      "week                                 45\n",
      "month                                11\n",
      "year                               2018\n",
      "weekday                               6\n",
      "Name: 56, dtype: object\n",
      "57\n",
      "timestamp    2018-11-11 15:10:12.796000\n",
      "hour                                 15\n",
      "day                                  11\n",
      "week                                 45\n",
      "month                                11\n",
      "year                               2018\n",
      "weekday                               6\n",
      "Name: 57, dtype: object\n",
      "58\n",
      "timestamp    2018-11-11 15:14:56.796000\n",
      "hour                                 15\n",
      "day                                  11\n",
      "week                                 45\n",
      "month                                11\n",
      "year                               2018\n",
      "weekday                               6\n",
      "Name: 58, dtype: object\n",
      "59\n",
      "timestamp    2018-11-11 16:01:19.796000\n",
      "hour                                 16\n",
      "day                                  11\n",
      "week                                 45\n",
      "month                                11\n",
      "year                               2018\n",
      "weekday                               6\n",
      "Name: 59, dtype: object\n",
      "60\n",
      "timestamp    2018-11-11 16:05:35.796000\n",
      "hour                                 16\n",
      "day                                  11\n",
      "week                                 45\n",
      "month                                11\n",
      "year                               2018\n",
      "weekday                               6\n",
      "Name: 60, dtype: object\n",
      "61\n",
      "timestamp    2018-11-11 16:09:12.796000\n",
      "hour                                 16\n",
      "day                                  11\n",
      "week                                 45\n",
      "month                                11\n",
      "year                               2018\n",
      "weekday                               6\n",
      "Name: 61, dtype: object\n",
      "62\n",
      "timestamp    2018-11-11 16:13:43.796000\n",
      "hour                                 16\n",
      "day                                  11\n",
      "week                                 45\n",
      "month                                11\n",
      "year                               2018\n",
      "weekday                               6\n",
      "Name: 62, dtype: object\n",
      "65\n",
      "timestamp    2018-11-11 18:08:33.796000\n",
      "hour                                 18\n",
      "day                                  11\n",
      "week                                 45\n",
      "month                                11\n",
      "year                               2018\n",
      "weekday                               6\n",
      "Name: 65, dtype: object\n",
      "67\n",
      "timestamp    2018-11-11 18:48:12.796000\n",
      "hour                                 18\n",
      "day                                  11\n",
      "week                                 45\n",
      "month                                11\n",
      "year                               2018\n",
      "weekday                               6\n",
      "Name: 67, dtype: object\n",
      "69\n",
      "timestamp    2018-11-11 18:49:01.796000\n",
      "hour                                 18\n",
      "day                                  11\n",
      "week                                 45\n",
      "month                                11\n",
      "year                               2018\n",
      "weekday                               6\n",
      "Name: 69, dtype: object\n",
      "70\n",
      "timestamp    2018-11-11 18:51:56.796000\n",
      "hour                                 18\n",
      "day                                  11\n",
      "week                                 45\n",
      "month                                11\n",
      "year                               2018\n",
      "weekday                               6\n",
      "Name: 70, dtype: object\n",
      "71\n",
      "timestamp    2018-11-11 18:53:36.796000\n",
      "hour                                 18\n",
      "day                                  11\n",
      "week                                 45\n",
      "month                                11\n",
      "year                               2018\n",
      "weekday                               6\n",
      "Name: 71, dtype: object\n",
      "72\n",
      "timestamp    2018-11-11 18:54:46.796000\n",
      "hour                                 18\n",
      "day                                  11\n",
      "week                                 45\n",
      "month                                11\n",
      "year                               2018\n",
      "weekday                               6\n",
      "Name: 72, dtype: object\n",
      "76\n",
      "timestamp    2018-11-11 19:41:45.796000\n",
      "hour                                 19\n",
      "day                                  11\n",
      "week                                 45\n",
      "month                                11\n",
      "year                               2018\n",
      "weekday                               6\n",
      "Name: 76, dtype: object\n",
      "77\n",
      "timestamp    2018-11-11 19:45:25.796000\n",
      "hour                                 19\n",
      "day                                  11\n",
      "week                                 45\n",
      "month                                11\n",
      "year                               2018\n",
      "weekday                               6\n",
      "Name: 77, dtype: object\n",
      "78\n",
      "timestamp    2018-11-11 19:48:53.796000\n",
      "hour                                 19\n",
      "day                                  11\n",
      "week                                 45\n",
      "month                                11\n",
      "year                               2018\n",
      "weekday                               6\n",
      "Name: 78, dtype: object\n",
      "80\n",
      "timestamp    2018-11-11 19:56:23.796000\n",
      "hour                                 19\n",
      "day                                  11\n",
      "week                                 45\n",
      "month                                11\n",
      "year                               2018\n",
      "weekday                               6\n",
      "Name: 80, dtype: object\n",
      "81\n",
      "timestamp    2018-11-11 19:59:18.796000\n",
      "hour                                 19\n",
      "day                                  11\n",
      "week                                 45\n",
      "month                                11\n",
      "year                               2018\n",
      "weekday                               6\n",
      "Name: 81, dtype: object\n",
      "82\n",
      "timestamp    2018-11-11 20:03:09.796000\n",
      "hour                                 20\n",
      "day                                  11\n",
      "week                                 45\n",
      "month                                11\n",
      "year                               2018\n",
      "weekday                               6\n",
      "Name: 82, dtype: object\n",
      "83\n",
      "timestamp    2018-11-11 20:06:02.796000\n",
      "hour                                 20\n",
      "day                                  11\n",
      "week                                 45\n",
      "month                                11\n",
      "year                               2018\n",
      "weekday                               6\n",
      "Name: 83, dtype: object\n",
      "84\n",
      "timestamp    2018-11-11 20:08:52.796000\n",
      "hour                                 20\n",
      "day                                  11\n",
      "week                                 45\n",
      "month                                11\n",
      "year                               2018\n",
      "weekday                               6\n",
      "Name: 84, dtype: object\n",
      "85\n",
      "timestamp    2018-11-11 20:13:22.796000\n",
      "hour                                 20\n",
      "day                                  11\n",
      "week                                 45\n",
      "month                                11\n",
      "year                               2018\n",
      "weekday                               6\n",
      "Name: 85, dtype: object\n",
      "86\n",
      "timestamp    2018-11-11 20:15:55.796000\n",
      "hour                                 20\n",
      "day                                  11\n",
      "week                                 45\n",
      "month                                11\n",
      "year                               2018\n",
      "weekday                               6\n",
      "Name: 86, dtype: object\n",
      "87\n",
      "timestamp    2018-11-11 20:19:18.796000\n",
      "hour                                 20\n",
      "day                                  11\n",
      "week                                 45\n",
      "month                                11\n",
      "year                               2018\n",
      "weekday                               6\n",
      "Name: 87, dtype: object\n",
      "88\n",
      "timestamp    2018-11-11 20:22:03.796000\n",
      "hour                                 20\n",
      "day                                  11\n",
      "week                                 45\n",
      "month                                11\n",
      "year                               2018\n",
      "weekday                               6\n",
      "Name: 88, dtype: object\n",
      "89\n",
      "timestamp    2018-11-11 20:25:40.796000\n",
      "hour                                 20\n",
      "day                                  11\n",
      "week                                 45\n",
      "month                                11\n",
      "year                               2018\n",
      "weekday                               6\n",
      "Name: 89, dtype: object\n",
      "90\n",
      "timestamp    2018-11-11 21:09:28.796000\n",
      "hour                                 21\n",
      "day                                  11\n",
      "week                                 45\n",
      "month                                11\n",
      "year                               2018\n",
      "weekday                               6\n",
      "Name: 90, dtype: object\n",
      "91\n",
      "timestamp    2018-11-11 21:13:48.796000\n",
      "hour                                 21\n",
      "day                                  11\n",
      "week                                 45\n",
      "month                                11\n",
      "year                               2018\n",
      "weekday                               6\n",
      "Name: 91, dtype: object\n",
      "92\n",
      "timestamp    2018-11-11 21:17:29.796000\n",
      "hour                                 21\n",
      "day                                  11\n",
      "week                                 45\n",
      "month                                11\n",
      "year                               2018\n",
      "weekday                               6\n",
      "Name: 92, dtype: object\n",
      "93\n",
      "timestamp    2018-11-11 23:39:00.796000\n",
      "hour                                 23\n",
      "day                                  11\n",
      "week                                 45\n",
      "month                                11\n",
      "year                               2018\n",
      "weekday                               6\n",
      "Name: 93, dtype: object\n",
      "94\n",
      "timestamp    2018-11-11 23:42:28.796000\n",
      "hour                                 23\n",
      "day                                  11\n",
      "week                                 45\n",
      "month                                11\n",
      "year                               2018\n",
      "weekday                               6\n",
      "Name: 94, dtype: object\n"
     ]
    }
   ],
   "source": [
    "for i, row in time_df.iterrows():\n",
    "    print(i)\n",
    "    print(row)\n",
    "    cur.execute(time_table_insert, list(row))\n",
    "    conn.commit()"
   ]
  },
  {
   "cell_type": "markdown",
   "metadata": {},
   "source": [
    "Run `test.ipynb` to see if you've successfully added records to this table."
   ]
  },
  {
   "cell_type": "markdown",
   "metadata": {},
   "source": [
    "## #4: `users` Table\n",
    "#### Extract Data for Users Table\n",
    "- Select columns for user ID, first name, last name, gender and level and set to `user_df`"
   ]
  },
  {
   "cell_type": "code",
   "execution_count": 42,
   "metadata": {
    "pycharm": {
     "name": "#%%\n"
    }
   },
   "outputs": [
    {
     "data": {
      "text/plain": "  user_id first_name  last_name gender level\n0      69   Anabelle    Simpson      F  free\n1      69   Anabelle    Simpson      F  free\n2      69   Anabelle    Simpson      F  free\n4      32       Lily      Burns      F  free\n5      75     Joseph  Gutierrez      M  free",
      "text/html": "<div>\n<style scoped>\n    .dataframe tbody tr th:only-of-type {\n        vertical-align: middle;\n    }\n\n    .dataframe tbody tr th {\n        vertical-align: top;\n    }\n\n    .dataframe thead th {\n        text-align: right;\n    }\n</style>\n<table border=\"1\" class=\"dataframe\">\n  <thead>\n    <tr style=\"text-align: right;\">\n      <th></th>\n      <th>user_id</th>\n      <th>first_name</th>\n      <th>last_name</th>\n      <th>gender</th>\n      <th>level</th>\n    </tr>\n  </thead>\n  <tbody>\n    <tr>\n      <th>0</th>\n      <td>69</td>\n      <td>Anabelle</td>\n      <td>Simpson</td>\n      <td>F</td>\n      <td>free</td>\n    </tr>\n    <tr>\n      <th>1</th>\n      <td>69</td>\n      <td>Anabelle</td>\n      <td>Simpson</td>\n      <td>F</td>\n      <td>free</td>\n    </tr>\n    <tr>\n      <th>2</th>\n      <td>69</td>\n      <td>Anabelle</td>\n      <td>Simpson</td>\n      <td>F</td>\n      <td>free</td>\n    </tr>\n    <tr>\n      <th>4</th>\n      <td>32</td>\n      <td>Lily</td>\n      <td>Burns</td>\n      <td>F</td>\n      <td>free</td>\n    </tr>\n    <tr>\n      <th>5</th>\n      <td>75</td>\n      <td>Joseph</td>\n      <td>Gutierrez</td>\n      <td>M</td>\n      <td>free</td>\n    </tr>\n  </tbody>\n</table>\n</div>"
     },
     "execution_count": 42,
     "metadata": {},
     "output_type": "execute_result"
    }
   ],
   "source": [
    "user_data = (df.userId, df.firstName, df.lastName, df.gender, df.level)\n",
    "column_labels = ('user_id', 'first_name', 'last_name', 'gender', 'level')\n",
    "user_df = pd.DataFrame(dict(zip(column_labels, user_data)))\n",
    "user_df.head()"
   ]
  },
  {
   "cell_type": "markdown",
   "metadata": {},
   "source": [
    "#### Insert Records into Users Table\n",
    "Implement the `user_table_insert` query in `sql_queries.py` and run the cell below to insert records for the users in this log file into the `users` table. Remember to run `create_tables.py` before running the cell below to ensure you've created/resetted the `users` table in the sparkify database."
   ]
  },
  {
   "cell_type": "code",
   "execution_count": 43,
   "metadata": {
    "pycharm": {
     "name": "#%%\n"
    }
   },
   "outputs": [],
   "source": [
    "for i, row in user_df.iterrows():\n",
    "    cur.execute(user_table_insert, row)\n",
    "    conn.commit()"
   ]
  },
  {
   "cell_type": "markdown",
   "metadata": {},
   "source": [
    "Run `test.ipynb` to see if you've successfully added records to this table."
   ]
  },
  {
   "cell_type": "markdown",
   "metadata": {},
   "source": [
    "## #5: `songplays` Table\n",
    "#### Extract Data and Songplays Table\n",
    "This one is a little more complicated since information from the songs table, artists table, and original log file are all needed for the `songplays` table. Since the log file does not specify an ID for either the song or the artist, you'll need to get the song ID and artist ID by querying the songs and artists tables to find matches based on song title, artist name, and song duration time.\n",
    "- Implement the `song_select` query in `sql_queries.py` to find the song ID and artist ID based on the title, artist name, and duration of a song.\n",
    "- Select the timestamp, user ID, level, song ID, artist ID, session ID, location, and user agent and set to `songplay_data`\n",
    "\n",
    "#### Insert Records into Songplays Table\n",
    "- Implement the `songplay_table_insert` query and run the cell below to insert records for the songplay actions in this log file into the `songplays` table. Remember to run `create_tables.py` before running the cell below to ensure you've created/resetted the `songplays` table in the sparkify database."
   ]
  },
  {
   "cell_type": "code",
   "execution_count": 44,
   "outputs": [
    {
     "data": {
      "text/plain": "                       artist       auth firstName gender  itemInSession  \\\n0                    Frumpies  Logged In  Anabelle      F              0   \n1   Kenny G with Peabo Bryson  Logged In  Anabelle      F              1   \n2                 Biffy Clyro  Logged In  Anabelle      F              2   \n4                         HIM  Logged In      Lily      F              1   \n5                      Matmos  Logged In    Joseph      M              0   \n..                        ...        ...       ...    ...            ...   \n90          Sidewalk Prophets  Logged In     Molly      F              0   \n91               Rise Against  Logged In     Molly      F              1   \n92                     K'Naan  Logged In     Molly      F              2   \n93             Patrick Jumpen  Logged In      Ryan      M              0   \n94                Alicia Keys  Logged In      Ryan      M              1   \n\n     lastName      length level                                     location  \\\n0     Simpson   134.47791  free  Philadelphia-Camden-Wilmington, PA-NJ-DE-MD   \n1     Simpson   264.75057  free  Philadelphia-Camden-Wilmington, PA-NJ-DE-MD   \n2     Simpson   189.83138  free  Philadelphia-Camden-Wilmington, PA-NJ-DE-MD   \n4       Burns   212.06159  free        New York-Newark-Jersey City, NY-NJ-PA   \n5   Gutierrez  1449.11628  free                                 Columbia, SC   \n..        ...         ...   ...                                          ...   \n90     Taylor   260.62322  free                             St. Louis, MO-IL   \n91     Taylor   221.17832  free                             St. Louis, MO-IL   \n92     Taylor   220.49914  free                             St. Louis, MO-IL   \n93      Smith   208.87465  free           San Jose-Sunnyvale-Santa Clara, CA   \n94      Smith   216.47628  free           San Jose-Sunnyvale-Santa Clara, CA   \n\n   method      page  registration  sessionId  \\\n0     PUT  NextSong  1.541044e+12        455   \n1     PUT  NextSong  1.541044e+12        455   \n2     PUT  NextSong  1.541044e+12        455   \n4     PUT  NextSong  1.540621e+12        456   \n5     PUT  NextSong  1.540809e+12        284   \n..    ...       ...           ...        ...   \n90    PUT  NextSong  1.540993e+12        464   \n91    PUT  NextSong  1.540993e+12        464   \n92    PUT  NextSong  1.540993e+12        464   \n93    PUT  NextSong  1.541017e+12        480   \n94    PUT  NextSong  1.541017e+12        480   \n\n                                          song  status             ts  \\\n0                                   Fuck Kitty     200  1541903636796   \n1               By The Time This Night Is Over     200  1541903770796   \n2                                  God & Satan     200  1541904034796   \n4                                    Beautiful     200  1541910973796   \n5                              Supreme Balloon     200  1541911006796   \n..                                         ...     ...            ...   \n90                  You Love Me Anyway (Album)     200  1541970568796   \n91                                     Torches     200  1541970828796   \n92                                Wavin'  Flag     200  1541971049796   \n93                                     Holiday     200  1541979540796   \n94  Empire State Of Mind (Part II) Broken Down     200  1541979748796   \n\n                                            userAgent userId  \n0   \"Mozilla/5.0 (Macintosh; Intel Mac OS X 10_9_4...     69  \n1   \"Mozilla/5.0 (Macintosh; Intel Mac OS X 10_9_4...     69  \n2   \"Mozilla/5.0 (Macintosh; Intel Mac OS X 10_9_4...     69  \n4   \"Mozilla/5.0 (Windows NT 6.1; WOW64) AppleWebK...     32  \n5   \"Mozilla/5.0 (Macintosh; Intel Mac OS X 10_9_3...     75  \n..                                                ...    ...  \n90  \"Mozilla/5.0 (X11; Linux x86_64) AppleWebKit/5...     35  \n91  \"Mozilla/5.0 (X11; Linux x86_64) AppleWebKit/5...     35  \n92  \"Mozilla/5.0 (X11; Linux x86_64) AppleWebKit/5...     35  \n93  \"Mozilla/5.0 (X11; Linux x86_64) AppleWebKit/5...     26  \n94  \"Mozilla/5.0 (X11; Linux x86_64) AppleWebKit/5...     26  \n\n[73 rows x 18 columns]",
      "text/html": "<div>\n<style scoped>\n    .dataframe tbody tr th:only-of-type {\n        vertical-align: middle;\n    }\n\n    .dataframe tbody tr th {\n        vertical-align: top;\n    }\n\n    .dataframe thead th {\n        text-align: right;\n    }\n</style>\n<table border=\"1\" class=\"dataframe\">\n  <thead>\n    <tr style=\"text-align: right;\">\n      <th></th>\n      <th>artist</th>\n      <th>auth</th>\n      <th>firstName</th>\n      <th>gender</th>\n      <th>itemInSession</th>\n      <th>lastName</th>\n      <th>length</th>\n      <th>level</th>\n      <th>location</th>\n      <th>method</th>\n      <th>page</th>\n      <th>registration</th>\n      <th>sessionId</th>\n      <th>song</th>\n      <th>status</th>\n      <th>ts</th>\n      <th>userAgent</th>\n      <th>userId</th>\n    </tr>\n  </thead>\n  <tbody>\n    <tr>\n      <th>0</th>\n      <td>Frumpies</td>\n      <td>Logged In</td>\n      <td>Anabelle</td>\n      <td>F</td>\n      <td>0</td>\n      <td>Simpson</td>\n      <td>134.47791</td>\n      <td>free</td>\n      <td>Philadelphia-Camden-Wilmington, PA-NJ-DE-MD</td>\n      <td>PUT</td>\n      <td>NextSong</td>\n      <td>1.541044e+12</td>\n      <td>455</td>\n      <td>Fuck Kitty</td>\n      <td>200</td>\n      <td>1541903636796</td>\n      <td>\"Mozilla/5.0 (Macintosh; Intel Mac OS X 10_9_4...</td>\n      <td>69</td>\n    </tr>\n    <tr>\n      <th>1</th>\n      <td>Kenny G with Peabo Bryson</td>\n      <td>Logged In</td>\n      <td>Anabelle</td>\n      <td>F</td>\n      <td>1</td>\n      <td>Simpson</td>\n      <td>264.75057</td>\n      <td>free</td>\n      <td>Philadelphia-Camden-Wilmington, PA-NJ-DE-MD</td>\n      <td>PUT</td>\n      <td>NextSong</td>\n      <td>1.541044e+12</td>\n      <td>455</td>\n      <td>By The Time This Night Is Over</td>\n      <td>200</td>\n      <td>1541903770796</td>\n      <td>\"Mozilla/5.0 (Macintosh; Intel Mac OS X 10_9_4...</td>\n      <td>69</td>\n    </tr>\n    <tr>\n      <th>2</th>\n      <td>Biffy Clyro</td>\n      <td>Logged In</td>\n      <td>Anabelle</td>\n      <td>F</td>\n      <td>2</td>\n      <td>Simpson</td>\n      <td>189.83138</td>\n      <td>free</td>\n      <td>Philadelphia-Camden-Wilmington, PA-NJ-DE-MD</td>\n      <td>PUT</td>\n      <td>NextSong</td>\n      <td>1.541044e+12</td>\n      <td>455</td>\n      <td>God &amp; Satan</td>\n      <td>200</td>\n      <td>1541904034796</td>\n      <td>\"Mozilla/5.0 (Macintosh; Intel Mac OS X 10_9_4...</td>\n      <td>69</td>\n    </tr>\n    <tr>\n      <th>4</th>\n      <td>HIM</td>\n      <td>Logged In</td>\n      <td>Lily</td>\n      <td>F</td>\n      <td>1</td>\n      <td>Burns</td>\n      <td>212.06159</td>\n      <td>free</td>\n      <td>New York-Newark-Jersey City, NY-NJ-PA</td>\n      <td>PUT</td>\n      <td>NextSong</td>\n      <td>1.540621e+12</td>\n      <td>456</td>\n      <td>Beautiful</td>\n      <td>200</td>\n      <td>1541910973796</td>\n      <td>\"Mozilla/5.0 (Windows NT 6.1; WOW64) AppleWebK...</td>\n      <td>32</td>\n    </tr>\n    <tr>\n      <th>5</th>\n      <td>Matmos</td>\n      <td>Logged In</td>\n      <td>Joseph</td>\n      <td>M</td>\n      <td>0</td>\n      <td>Gutierrez</td>\n      <td>1449.11628</td>\n      <td>free</td>\n      <td>Columbia, SC</td>\n      <td>PUT</td>\n      <td>NextSong</td>\n      <td>1.540809e+12</td>\n      <td>284</td>\n      <td>Supreme Balloon</td>\n      <td>200</td>\n      <td>1541911006796</td>\n      <td>\"Mozilla/5.0 (Macintosh; Intel Mac OS X 10_9_3...</td>\n      <td>75</td>\n    </tr>\n    <tr>\n      <th>...</th>\n      <td>...</td>\n      <td>...</td>\n      <td>...</td>\n      <td>...</td>\n      <td>...</td>\n      <td>...</td>\n      <td>...</td>\n      <td>...</td>\n      <td>...</td>\n      <td>...</td>\n      <td>...</td>\n      <td>...</td>\n      <td>...</td>\n      <td>...</td>\n      <td>...</td>\n      <td>...</td>\n      <td>...</td>\n      <td>...</td>\n    </tr>\n    <tr>\n      <th>90</th>\n      <td>Sidewalk Prophets</td>\n      <td>Logged In</td>\n      <td>Molly</td>\n      <td>F</td>\n      <td>0</td>\n      <td>Taylor</td>\n      <td>260.62322</td>\n      <td>free</td>\n      <td>St. Louis, MO-IL</td>\n      <td>PUT</td>\n      <td>NextSong</td>\n      <td>1.540993e+12</td>\n      <td>464</td>\n      <td>You Love Me Anyway (Album)</td>\n      <td>200</td>\n      <td>1541970568796</td>\n      <td>\"Mozilla/5.0 (X11; Linux x86_64) AppleWebKit/5...</td>\n      <td>35</td>\n    </tr>\n    <tr>\n      <th>91</th>\n      <td>Rise Against</td>\n      <td>Logged In</td>\n      <td>Molly</td>\n      <td>F</td>\n      <td>1</td>\n      <td>Taylor</td>\n      <td>221.17832</td>\n      <td>free</td>\n      <td>St. Louis, MO-IL</td>\n      <td>PUT</td>\n      <td>NextSong</td>\n      <td>1.540993e+12</td>\n      <td>464</td>\n      <td>Torches</td>\n      <td>200</td>\n      <td>1541970828796</td>\n      <td>\"Mozilla/5.0 (X11; Linux x86_64) AppleWebKit/5...</td>\n      <td>35</td>\n    </tr>\n    <tr>\n      <th>92</th>\n      <td>K'Naan</td>\n      <td>Logged In</td>\n      <td>Molly</td>\n      <td>F</td>\n      <td>2</td>\n      <td>Taylor</td>\n      <td>220.49914</td>\n      <td>free</td>\n      <td>St. Louis, MO-IL</td>\n      <td>PUT</td>\n      <td>NextSong</td>\n      <td>1.540993e+12</td>\n      <td>464</td>\n      <td>Wavin'  Flag</td>\n      <td>200</td>\n      <td>1541971049796</td>\n      <td>\"Mozilla/5.0 (X11; Linux x86_64) AppleWebKit/5...</td>\n      <td>35</td>\n    </tr>\n    <tr>\n      <th>93</th>\n      <td>Patrick Jumpen</td>\n      <td>Logged In</td>\n      <td>Ryan</td>\n      <td>M</td>\n      <td>0</td>\n      <td>Smith</td>\n      <td>208.87465</td>\n      <td>free</td>\n      <td>San Jose-Sunnyvale-Santa Clara, CA</td>\n      <td>PUT</td>\n      <td>NextSong</td>\n      <td>1.541017e+12</td>\n      <td>480</td>\n      <td>Holiday</td>\n      <td>200</td>\n      <td>1541979540796</td>\n      <td>\"Mozilla/5.0 (X11; Linux x86_64) AppleWebKit/5...</td>\n      <td>26</td>\n    </tr>\n    <tr>\n      <th>94</th>\n      <td>Alicia Keys</td>\n      <td>Logged In</td>\n      <td>Ryan</td>\n      <td>M</td>\n      <td>1</td>\n      <td>Smith</td>\n      <td>216.47628</td>\n      <td>free</td>\n      <td>San Jose-Sunnyvale-Santa Clara, CA</td>\n      <td>PUT</td>\n      <td>NextSong</td>\n      <td>1.541017e+12</td>\n      <td>480</td>\n      <td>Empire State Of Mind (Part II) Broken Down</td>\n      <td>200</td>\n      <td>1541979748796</td>\n      <td>\"Mozilla/5.0 (X11; Linux x86_64) AppleWebKit/5...</td>\n      <td>26</td>\n    </tr>\n  </tbody>\n</table>\n<p>73 rows × 18 columns</p>\n</div>"
     },
     "execution_count": 44,
     "metadata": {},
     "output_type": "execute_result"
    }
   ],
   "source": [
    "df"
   ],
   "metadata": {
    "collapsed": false,
    "pycharm": {
     "name": "#%%\n"
    }
   }
  },
  {
   "cell_type": "code",
   "execution_count": 45,
   "metadata": {
    "pycharm": {
     "name": "#%%\n"
    }
   },
   "outputs": [
    {
     "name": "stdout",
     "output_type": "stream",
     "text": [
      "None\n",
      "None\n",
      "None\n",
      "None\n",
      "None\n",
      "None\n",
      "None\n",
      "None\n",
      "None\n",
      "None\n",
      "None\n",
      "None\n",
      "None\n",
      "None\n",
      "None\n",
      "None\n",
      "None\n",
      "None\n",
      "None\n",
      "None\n",
      "None\n",
      "None\n",
      "None\n",
      "None\n",
      "None\n",
      "None\n",
      "None\n",
      "None\n",
      "None\n",
      "None\n",
      "None\n",
      "None\n",
      "None\n",
      "None\n",
      "None\n",
      "None\n",
      "None\n",
      "None\n",
      "None\n",
      "None\n",
      "None\n",
      "None\n",
      "None\n",
      "None\n",
      "None\n",
      "None\n",
      "None\n",
      "None\n",
      "None\n",
      "None\n",
      "None\n",
      "None\n",
      "None\n",
      "None\n",
      "None\n",
      "None\n",
      "None\n",
      "None\n",
      "None\n",
      "None\n",
      "None\n",
      "None\n",
      "None\n",
      "None\n",
      "None\n",
      "None\n",
      "None\n",
      "None\n",
      "None\n",
      "None\n",
      "None\n",
      "None\n",
      "None\n"
     ]
    }
   ],
   "source": [
    "for index, row in df.iterrows():\n",
    "\n",
    "    # get songid and artistid from song and artist tables\n",
    "    cur.execute(song_select, (row.song, row.artist, row.length))\n",
    "    results = cur.fetchone()\n",
    "    print(results)\n",
    "    if results:\n",
    "        songid, artistid = results\n",
    "    else:\n",
    "        songid, artistid = None, None\n",
    "\n",
    "    # insert songplay record\n",
    "    songplay_data = (pd.to_datetime(row.ts, unit='ms'), row.userId, row.level, songid, artistid, row.sessionId, row.location, row.userAgent)\n",
    "    cur.execute(songplay_table_insert, songplay_data)\n",
    "    conn.commit()"
   ]
  },
  {
   "cell_type": "markdown",
   "metadata": {},
   "source": [
    "Run `test.ipynb` to see if you've successfully added records to this table."
   ]
  },
  {
   "cell_type": "markdown",
   "metadata": {},
   "source": [
    "# Close Connection to Sparkify Database"
   ]
  },
  {
   "cell_type": "code",
   "execution_count": 46,
   "metadata": {
    "pycharm": {
     "name": "#%%\n"
    }
   },
   "outputs": [],
   "source": [
    "conn.close()"
   ]
  },
  {
   "cell_type": "markdown",
   "metadata": {},
   "source": [
    "# Implement `etl.py`\n",
    "Use what you've completed in this notebook to implement `etl.py`."
   ]
  },
  {
   "cell_type": "code",
   "execution_count": 46,
   "metadata": {
    "pycharm": {
     "name": "#%%\n"
    }
   },
   "outputs": [],
   "source": []
  }
 ],
 "metadata": {
  "kernelspec": {
   "display_name": "Python 3 (ipykernel)",
   "language": "python",
   "name": "python3"
  },
  "language_info": {
   "codemirror_mode": {
    "name": "ipython",
    "version": 3
   },
   "file_extension": ".py",
   "mimetype": "text/x-python",
   "name": "python",
   "nbconvert_exporter": "python",
   "pygments_lexer": "ipython3",
   "version": "3.9.12"
  }
 },
 "nbformat": 4,
 "nbformat_minor": 2
}